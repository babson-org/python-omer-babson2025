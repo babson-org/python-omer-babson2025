{
  "cells": [
    {
      "cell_type": "markdown",
      "metadata": {},
      "source": [
        "# 🧪 Lab 1 Reinforcement Exercises\n",
        "These exercises build on Lab 1 concepts: input handling, string manipulation, control flow, and basic algorithms.\n",
        "Each problem includes a full description and a code cell for your solution."
      ]
    },
    {
      "cell_type": "markdown",
      "metadata": {},
      "source": [
        "## 🔷 Exercise 23: Diamond with Custom Character\n",
        "**Problem:** Modify the diamond-drawing logic so the user can choose the character used to draw the diamond. The diamond should remain symmetric and centered.\n",
        "              Make the Diamond solid fill  i.e. :\n",
        "\n",
        "               *\n",
        "              ***\n",
        "               *\n",
        "\n",
        "**Input:**\n",
        "- An odd integer for the height of the diamond\n",
        "- A single character to use for drawing\n",
        "\n",
        "**Output:**\n",
        "- A symmetric solid diamond printed using the chosen character"
      ]
    },
    {
      "cell_type": "code",
      "execution_count": 17,
      "metadata": {},
      "outputs": [
        {
          "name": "stdout",
          "output_type": "stream",
          "text": [
            " *\n",
            "***\n",
            " *\n"
          ]
        }
      ],
      "source": [
        "while True:\n",
        "        try:\n",
        "            height = int(input(\"Please enter an odd number for the diamond height: \"))\n",
        "            if height > 0 and height % 2 == 1:\n",
        "                break\n",
        "            else:\n",
        "                print(\"Enter an odd number\")\n",
        "        except ValueError:\n",
        "            print(\"Be sure to enter an odd number\")\n",
        "\n",
        "for i in range(1, height + 1, 2):\n",
        "        spaces = (height - i) // 2\n",
        "        print(\" \" * spaces + \"*\" * i)\n",
        "\n",
        "for i in range(height - 2, 0, -2):\n",
        "        spaces = (height - i) // 2\n",
        "        print(\" \" * spaces + \"*\" * i)"
      ]
    },
    {
      "cell_type": "markdown",
      "metadata": {},
      "source": [
        "## 🔷 Exercise 24: Diamond Height Validation\n",
        "**Problem:** Prompt the user for an odd number greater than 1. If the input is invalid, display an error and ask again until a valid number is entered.\n",
        "\n",
        "**Input:**\n",
        "- A string from the user (may or may not be a valid number)\n",
        "\n",
        "**Output:**\n",
        "- A confirmation message when a valid odd number > 1 is entered\n",
        "- Error messages for invalid inputs"
      ]
    },
    {
      "cell_type": "code",
      "execution_count": 14,
      "metadata": {},
      "outputs": [
        {
          "name": "stdout",
          "output_type": "stream",
          "text": [
            "Invalid: please enter an odd number greater than 1.\n",
            "Valid: 3 is an odd number greater than 1.\n"
          ]
        }
      ],
      "source": [
        "while True:\n",
        "    raw = input(\"Enter an odd number greater than 1: \")\n",
        "    try:\n",
        "        n = int(raw)\n",
        "        if n > 1 and n % 2 == 1:\n",
        "            print(f\"Valid: {n} is an odd number greater than 1.\")\n",
        "            break   \n",
        "        else:\n",
        "            print(\"Invalid: please enter an odd number greater than 1.\")\n",
        "    except ValueError:\n",
        "        print(\"Invalid: make sure you type a number.\")"
      ]
    }
  ],
  "metadata": {
    "kernelspec": {
      "display_name": "venv",
      "language": "python",
      "name": "python3"
    },
    "language_info": {
      "codemirror_mode": {
        "name": "ipython",
        "version": 3
      },
      "file_extension": ".py",
      "mimetype": "text/x-python",
      "name": "python",
      "nbconvert_exporter": "python",
      "pygments_lexer": "ipython3",
      "version": "3.10.18"
    }
  },
  "nbformat": 4,
  "nbformat_minor": 2
}
