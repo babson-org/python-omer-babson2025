{
 "cells": [
  {
   "cell_type": "markdown",
   "id": "0",
   "metadata": {},
   "source": [
    "# 📚 Bookstore Transactions Exercise"
   ]
  },
  {
   "cell_type": "markdown",
   "id": "1",
   "metadata": {},
   "source": [
    "\n",
    "In this exercise, you'll work with a list of bookstore transactions.  \n",
    "Each transaction is represented as a dictionary with the following keys:\n",
    "\n",
    "- `item` → name of the book (string)  \n",
    "- `type` → `\"PURCHASE\"` or `\"SALE\"`  \n",
    "- `quantity` → number of copies (int)  \n",
    "- `unit_price` → price per copy (float)  \n",
    "- `total_amt` → total amount (should equal `quantity * unit_price`)  \n",
    "\n",
    "---\n",
    "\n",
    "### Step 1: Fix Incorrect Totals\n",
    "One of the transactions has the wrong `total_amt`.  \n",
    "Loop through the list and check if:  \n",
    "\n",
    "```python\n",
    "quantity * unit_price != total_amt\n",
    "```\n",
    "If it’s wrong, fix it.\n",
    "\n",
    "---\n",
    "\n",
    "### Step 2: Calculate Ending Cash in Register\n",
    "Assume starting `cash = 0`.  \n",
    "Rules:  \n",
    "- `SALE` → add `total_amt` to cash  \n",
    "- `PURCHASE` → subtract `total_amt` from cash  \n",
    "\n",
    "At the end, print the final cash register balance.\n",
    "\n",
    "---\n",
    "\n",
    "👉 Try to solve this in about **20 minutes**.\n"
   ]
  },
  {
   "cell_type": "code",
   "execution_count": null,
   "id": "2",
   "metadata": {},
   "outputs": [],
   "source": [
    "# Example data: 7 bookstore transactions\n",
    "transactions = [\n",
    "    {\"item\": \"Python 101\", \"type\": \"PURCHASE\", \"quantity\": 10, \"unit_price\": 20, \"total_amt\": 200},\n",
    "    {\"item\": \"Python 101\", \"type\": \"SALE\", \"quantity\": 4, \"unit_price\": 25, \"total_amt\": 100},\n",
    "    {\"item\": \"AI for Beginners\", \"type\": \"SALE\", \"quantity\": 2, \"unit_price\": 30, \"total_amt\": 60},\n",
    "    {\"item\": \"Data Science 101\", \"type\": \"PURCHASE\", \"quantity\": 5, \"unit_price\": 40, \"total_amt\": 300},  \n",
    "    {\"item\": \"ML Basics\", \"type\": \"SALE\", \"quantity\": 3, \"unit_price\": 35, \"total_amt\": 105},\n",
    "    {\"item\": \"Deep Learning Guide\", \"type\": \"PURCHASE\", \"quantity\": 7, \"unit_price\": 50, \"total_amt\": 350},\n",
    "    {\"item\": \"AI for Beginners\", \"type\": \"SALE\", \"quantity\": 1, \"unit_price\": 30, \"total_amt\": 30}\n",
    "]\n",
    "\n",
    "\n",
    "# TODO: Step 1 - Fix incorrect totals\n",
    "# Loop through the transactions list\n",
    "# for each transaction check if quantity * price = total_amt\n",
    "# if it isn't update with the correct amount\n",
    "\n",
    "for trn in transactions:\n",
    "    if trn['unit_price'] * trn['quantity'] != trn['total_amt']: trn['total_amt'] = trn['unit_price'] * trn['quantity']\n",
    "\n",
    "# TODO: Step 2 - Calculate ending cash\n",
    "# set cash = 0\n",
    "# loop through the transactions list\n",
    "# for each transaction add to the cash balance if type = 'SALE'\n",
    "# and subtract from cash if type = 'PURCHASE'\n",
    "\n",
    "cash = 0\n",
    "for trn in transactions:\n",
    "    if trn['type'] == 'PURCHASE' : cash -= trn['total_amt']\n",
    "    else: cash += trn['total_amt']\n",
    "print(\"Final cash balance:\", cash)\n",
    "\n"
   ]
  },
  {
   "cell_type": "code",
   "execution_count": null,
   "id": "3",
   "metadata": {},
   "outputs": [],
   "source": [
    "total_amt = quantity * unit_price\n",
    "for trn in transactions:\n",
    "    if trn['quantity'] * trn['unit_price'] != trn['total_amt']:\n",
    "        trn['total_amt'] = trn['quantity'] * trn['unit_price']\n",
    "\n",
    "#Step 2: Calculate Ending Cash\n",
    "#Start with:\n",
    "cash = 0\n",
    "#SALE → money comes in → add total_amt\n",
    "\n",
    "#PURCHASE → money goes out → subtract total_amt\n",
    "for trn in transactions:\n",
    "    if trn['type'] == 'PURCHASE':\n",
    "        cash -= trn['total_amt']\n",
    "    else:\n",
    "        cash += trn['total_amt']\n",
    "print(\"Final cash balance:\", cash)   "
   ]
  },
  {
   "cell_type": "code",
   "execution_count": null,
   "id": "4",
   "metadata": {},
   "outputs": [],
   "source": [
    "txt = \"Please input an integer: \"\n",
    "while True:                           # (Q: How do we get out of this while loop?)\n",
    "    try:                              # (Q: Why use a try block?)\n",
    "        counter = int(input(txt))\n",
    "    except ValueError:                 # (Q: What triggers the ValueError?)\n",
    "        txt = \"You must enter an integer: \"\n",
    "        continue                       # (Q: Where does execution go from here?)\n",
    "    else:                              # (Q: When does the else block execute?)\n",
    "        if counter <= 0:\n",
    "            txt = \"You must enter a positive number: \"\n",
    "            continue                   # (Q: Where does execution go from here?)\n",
    "\n",
    "        # valid positive integer\n",
    "        for i in range(counter):\n",
    "            if i == 2:\n",
    "                continue               # (Q: Where does execution go from here?)\n",
    "            print(f\"The square of {i} is {i*i}\")\n",
    "        break                          # (Q: Which loop is the break in?)"
   ]
  }
 ],
 "metadata": {
  "kernelspec": {
   "display_name": "venv",
   "language": "python",
   "name": "python3"
  },
  "language_info": {
   "codemirror_mode": {
    "name": "ipython",
    "version": 3
   },
   "file_extension": ".py",
   "mimetype": "text/x-python",
   "name": "python",
   "nbconvert_exporter": "python",
   "pygments_lexer": "ipython3",
   "version": "3.10.18"
  }
 },
 "nbformat": 4,
 "nbformat_minor": 5
}
