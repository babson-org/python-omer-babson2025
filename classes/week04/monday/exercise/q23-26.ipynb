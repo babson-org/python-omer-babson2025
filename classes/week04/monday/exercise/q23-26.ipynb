{
  "cells": [
    {
      "cell_type": "markdown",
      "metadata": {},
      "source": [
        "# 🧪 Lab 1 Reinforcement Exercises\n",
        "These exercises build on Lab 1 concepts: input handling, string manipulation, control flow, and basic algorithms.\n",
        "Each problem includes a full description and a code cell for your solution."
      ]
    },
    {
      "cell_type": "markdown",
      "metadata": {},
      "source": [
        "## 🟩 Exercise 25: Vowel and Consonant Counter\n",
        "**Problem:** Ask the user for a block of text. Count and display the number of vowels and consonants. Ignore non-letter characters.\n",
        "\n",
        "**Input:**\n",
        "- A string of text\n",
        "\n",
        "**Output:**\n",
        "- Number of vowels\n",
        "- Number of consonants"
      ]
    },
    {
      "cell_type": "code",
      "execution_count": 1,
      "metadata": {},
      "outputs": [
        {
          "name": "stdout",
          "output_type": "stream",
          "text": [
            "Number of vowels: 6\n",
            "Number of consonants: 8\n"
          ]
        }
      ],
      "source": [
        "class VowelConsonantCounter:\n",
        "    def __init__(self):\n",
        "        self.text = \"\"\n",
        "        self.vowels = \"aeiouAEIOU\"\n",
        "        self.vowel_count = 0\n",
        "        self.consonant_count = 0\n",
        "\n",
        "    def get_input(self):\n",
        "        self.text = input(\"Enter a block of text: \")\n",
        "\n",
        "    def count_letters(self):\n",
        "        self.vowel_count = 0\n",
        "        self.consonant_count = 0\n",
        "\n",
        "        for char in self.text:\n",
        "            if char.isalpha():  # Only letters\n",
        "                if char in self.vowels:\n",
        "                    self.vowel_count += 1\n",
        "                else:\n",
        "                    self.consonant_count += 1\n",
        "\n",
        "    def display_results(self):\n",
        "        print(f\"Number of vowels: {self.vowel_count}\")\n",
        "        print(f\"Number of consonants: {self.consonant_count}\")\n",
        "\n",
        "\n",
        "# --- Run the program ---\n",
        "if __name__ == \"__main__\":\n",
        "    counter = VowelConsonantCounter()\n",
        "    counter.get_input()\n",
        "    counter.count_letters()\n",
        "    counter.display_results()"
      ]
    },
    {
      "cell_type": "markdown",
      "metadata": {},
      "source": [
        "## 🟩 Exercise 26: Longest Word Finder\n",
        "**Problem:** Ask the user for a sentence. Identify and print the longest word. Strip punctuation from words before comparing lengths.\n",
        "\n",
        "**Input:**\n",
        "- A sentence with words and punctuation\n",
        "\n",
        "**Output:**\n",
        "- The longest word (punctuation removed)"
      ]
    },
    {
      "cell_type": "code",
      "execution_count": 2,
      "metadata": {},
      "outputs": [
        {
          "name": "stdout",
          "output_type": "stream",
          "text": [
            "The longest word is: name\n"
          ]
        }
      ],
      "source": [
        "import string\n",
        "\n",
        "class LongestWordFinder:\n",
        "    def __init__(self):\n",
        "        self.sentence = \"\"\n",
        "        self.longest_word = \"\"\n",
        "\n",
        "    def get_input(self):\n",
        "        self.sentence = input(\"Enter a sentence: \")\n",
        "\n",
        "    def find_longest_word(self):\n",
        "        words = self.sentence.split()\n",
        "        cleaned_words = [word.strip(string.punctuation) for word in words]\n",
        "\n",
        "        self.longest_word = max(cleaned_words, key=len) if cleaned_words else \"\"\n",
        "\n",
        "    def display_result(self):\n",
        "        if self.longest_word:\n",
        "            print(f\"The longest word is: {self.longest_word}\")\n",
        "        else:\n",
        "            print(\"No valid words found.\")\n",
        "\n",
        "\n",
        "# --- Run the program ---\n",
        "if __name__ == \"__main__\":\n",
        "    finder = LongestWordFinder()\n",
        "    finder.get_input()\n",
        "    finder.find_longest_word()\n",
        "    finder.display_result()"
      ]
    },
    {
      "cell_type": "markdown",
      "metadata": {},
      "source": [
        "## 🟩 Exercise 27: Sentence Type Breakdown\n",
        "**Problem:** Ask the user for a block of text. Count how many sentences end with `.`, `?`, and `!`. Display a breakdown of sentence types.\n",
        "\n",
        "**Input:**\n",
        "- A block of text\n",
        "\n",
        "**Output:**\n",
        "- Total number of sentences\n",
        "- Number of declarative (.), interrogative (?), and exclamatory (!) sentences"
      ]
    },
    {
      "cell_type": "code",
      "execution_count": 3,
      "metadata": {},
      "outputs": [
        {
          "name": "stdout",
          "output_type": "stream",
          "text": [
            "Total sentences: 1\n",
            "Declarative ('.'): 1\n",
            "Interrogative ('?'): 0\n",
            "Exclamatory ('!'): 0\n"
          ]
        }
      ],
      "source": [
        "class SentenceTypeCounter:\n",
        "    def __init__(self):\n",
        "        self.text = \"\"\n",
        "        self.declarative = 0\n",
        "        self.interrogative = 0\n",
        "        self.exclamatory = 0\n",
        "\n",
        "    def get_input(self):\n",
        "        self.text = input(\"Enter a block of text: \")\n",
        "\n",
        "    def count_sentences(self):\n",
        "        self.declarative = self.text.count(\".\")\n",
        "        self.interrogative = self.text.count(\"?\")\n",
        "        self.exclamatory = self.text.count(\"!\")\n",
        "\n",
        "    def display_results(self):\n",
        "        total = self.declarative + self.interrogative + self.exclamatory\n",
        "        print(f\"Total sentences: {total}\")\n",
        "        print(f\"Declarative ('.'): {self.declarative}\")\n",
        "        print(f\"Interrogative ('?'): {self.interrogative}\")\n",
        "        print(f\"Exclamatory ('!'): {self.exclamatory}\")\n",
        "\n",
        "\n",
        "# --- Run the program ---\n",
        "if __name__ == \"__main__\":\n",
        "    counter = SentenceTypeCounter()\n",
        "    counter.get_input()\n",
        "    counter.count_sentences()\n",
        "    counter.display_results()"
      ]
    },
    {
      "cell_type": "markdown",
      "metadata": {},
      "source": [
        "## Exercise 28: Caesar Cipher Key Finder\n",
        "\n",
        "Objective: Write a program to decode a message when the key is unknown, using reasoning instead of trying all shifts.\n",
        "\n",
        "Scenario:\n",
        "-    You receive an encrypted message:\n",
        "-    Encrypted message: 'KHOOR ZRUOG'\n",
        "-    Hint: The first word is 'HELLO'\n",
        "  \n",
        "  \n",
        "Tasks:\n",
        "-    Identify the shift key\n",
        "-    Use the hint ('HELLO') to determine the number of positions the letters were shifted.\n",
        "-    Think: 'H' ? 'K', what shift was applied?\n",
        "-    Decode the full message\n",
        "-    Write a function decode_caesar(message, key) that takes the encrypted message and the key you found.\n",
        "-    Print the decrypted message."
      ]
    },
    {
      "cell_type": "code",
      "execution_count": 4,
      "metadata": {},
      "outputs": [
        {
          "name": "stdout",
          "output_type": "stream",
          "text": [
            "Detected shift key: 3\n",
            "Decrypted message: HELLO WORLD\n"
          ]
        }
      ],
      "source": [
        "class CaesarCipherKeyFinder:\n",
        "    def __init__(self, encrypted, hint):\n",
        "        self.encrypted = encrypted\n",
        "        self.hint = hint\n",
        "        self.key = None\n",
        "        self.decrypted = \"\"\n",
        "\n",
        "    def find_key(self):\n",
        "        # Compare first letter of encrypted and hint\n",
        "        self.key = (ord(self.encrypted[0]) - ord(self.hint[0])) % 26\n",
        "\n",
        "    def decode_caesar(self, message, key):\n",
        "        decrypted = \"\"\n",
        "        for char in message:\n",
        "            if char.isalpha():\n",
        "                shift = (ord(char) - ord(\"A\") - key) % 26 + ord(\"A\")\n",
        "                decrypted += chr(shift)\n",
        "            else:\n",
        "                decrypted += char\n",
        "        return decrypted\n",
        "\n",
        "    def run(self):\n",
        "        self.find_key()\n",
        "        print(f\"Detected shift key: {self.key}\")\n",
        "        self.decrypted = self.decode_caesar(self.encrypted, self.key)\n",
        "        print(f\"Decrypted message: {self.decrypted}\")\n",
        "\n",
        "\n",
        "# --- Run the program ---\n",
        "if __name__ == \"__main__\":\n",
        "    encrypted_msg = \"KHOOR ZRUOG\"\n",
        "    hint_word = \"HELLO\"\n",
        "\n",
        "    solver = CaesarCipherKeyFinder(encrypted_msg, hint_word)\n",
        "    solver.run()"
      ]
    }
  ],
  "metadata": {
    "kernelspec": {
      "display_name": "venv",
      "language": "python",
      "name": "python3"
    },
    "language_info": {
      "codemirror_mode": {
        "name": "ipython",
        "version": 3
      },
      "file_extension": ".py",
      "mimetype": "text/x-python",
      "name": "python",
      "nbconvert_exporter": "python",
      "pygments_lexer": "ipython3",
      "version": "3.10.18"
    }
  },
  "nbformat": 4,
  "nbformat_minor": 2
}
